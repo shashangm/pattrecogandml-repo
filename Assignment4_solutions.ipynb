{
 "cells": [
  {
   "attachments": {},
   "cell_type": "markdown",
   "metadata": {},
   "source": [
    "# HMM Foward-Backward Algorithm"
   ]
  },
  {
   "cell_type": "code",
   "execution_count": 5,
   "metadata": {},
   "outputs": [
    {
     "name": "stdout",
     "output_type": "stream",
     "text": [
      "px: \n",
      " [[array([0.39104269]), array([0.01358297]), array([0.17136859])], [array([0.05546042]), array([0.19552135]), array([0.13899244])]]\n",
      "alphahat: \n",
      " [[1.         0.38470424 0.41887466]\n",
      " [0.         0.61529576 0.58112534]]\n",
      "c: \n",
      " [1.         0.16252347 0.82658096 0.05811253]\n",
      "betahat: \n",
      " [[1.         1.03893571 0.        ]\n",
      " [8.41537925 9.35042138 2.08182773]]\n"
     ]
    }
   ],
   "source": [
    "from PattRecClasses import DiscreteD, GaussD, HMM, MarkovChain\n",
    "from matplotlib import pyplot as plt\n",
    "\n",
    "import numpy as np\n",
    "\n",
    "# State generator\n",
    "\n",
    "# Finite HMM\n",
    "mc = MarkovChain( np.array( [ 1, 0 ] ), np.array( [ [ 0.9, 0.1, 0.0 ], [ 0.0, 0.9, 0.1 ] ] ) ) \n",
    "# Infinite HMM\n",
    "#mc = MarkovChain( np.array( [ 0.75, 0.25 ] ), np.array( [ [ 0.99, 0.01 ], [ 0.03, 0.97 ] ] ) ) \n",
    "g1 = GaussD( means=[0], stdevs=[1] )   # Distribution for state = 1\n",
    "g2 = GaussD( means=[3], stdevs=[2] )   # Distribution for state = 2\n",
    "h  = HMM( mc, [g1, g2]) \n",
    "\n",
    "# Generating the conditional probability Matrix\n",
    "x = [-0.2,2.6,1.3]\n",
    "px = np.zeros((2,3))\n",
    "px = [[g1.prob(x[0]), g1.prob(x[1]), g1.prob(x[2])], [g2.prob(x[0]), g2.prob(x[1]), g2.prob(x[2])]]\n",
    "print(\"px: \\n\",px)\n",
    "\n",
    "# Scaling the matrix\n",
    "k = np.max(px,0)\n",
    "for j in range(3):\n",
    "    for i in range(2):\n",
    "        px[i][j] = px[i][j]/k[j]\n",
    "\n",
    "# Foward algorithm\n",
    "alpha,c = mc.forward(px)\n",
    "print(\"alphahat: \\n\",alpha)\n",
    "print(\"c: \\n\",c)\n",
    "\n",
    "# Backward algorithm\n",
    "betahat = mc.backward(px,c)\n",
    "print(\"betahat: \\n\",betahat)"
   ]
  }
 ],
 "metadata": {
  "kernelspec": {
   "display_name": "Python 3",
   "language": "python",
   "name": "python3"
  },
  "language_info": {
   "codemirror_mode": {
    "name": "ipython",
    "version": 3
   },
   "file_extension": ".py",
   "mimetype": "text/x-python",
   "name": "python",
   "nbconvert_exporter": "python",
   "pygments_lexer": "ipython3",
   "version": "3.11.3"
  },
  "orig_nbformat": 4
 },
 "nbformat": 4,
 "nbformat_minor": 2
}
